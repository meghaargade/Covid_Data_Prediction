{
  "nbformat": 4,
  "nbformat_minor": 0,
  "metadata": {
    "colab": {
      "name": "covid_data_prediction.ipynb",
      "provenance": [],
      "collapsed_sections": []
    },
    "kernelspec": {
      "name": "python3",
      "display_name": "Python 3"
    },
    "language_info": {
      "name": "python"
    },
    "accelerator": "GPU"
  },
  "cells": [
    {
      "cell_type": "markdown",
      "metadata": {
        "id": "e3fr_DLWCkCD"
      },
      "source": [
        "**Importing Libraries**"
      ]
    },
    {
      "cell_type": "code",
      "metadata": {
        "id": "uKe2KJk747vZ"
      },
      "source": [
        "import pandas as pd\n",
        "import numpy as np\n",
        "import matplotlib.pyplot as plt\n",
        "from sklearn.preprocessing import PolynomialFeatures\n",
        "from sklearn import linear_model\n"
      ],
      "execution_count": 9,
      "outputs": []
    },
    {
      "cell_type": "markdown",
      "metadata": {
        "id": "mF0bBIrqCpo1"
      },
      "source": [
        "**Load Data**"
      ]
    },
    {
      "cell_type": "code",
      "metadata": {
        "id": "czPxNUVwF-Qt",
        "colab": {
          "base_uri": "https://localhost:8080/"
        },
        "outputId": "b0fef216-fc9c-448e-95dd-5803983a3766"
      },
      "source": [
        "data = pd.read_csv('/content/active cases in india1.csv')\n",
        "data = data[['id','cases']]\n",
        "print('-'*30);print('Head');print('-'*30)\n",
        "print(data.head())"
      ],
      "execution_count": 10,
      "outputs": [
        {
          "output_type": "stream",
          "name": "stdout",
          "text": [
            "------------------------------\n",
            "Head\n",
            "------------------------------\n",
            "   id     cases\n",
            "0   1  12149335\n",
            "1   2  12221665\n",
            "2   3  12303131\n",
            "3   4  12392260\n",
            "4   5  12485509\n"
          ]
        }
      ]
    },
    {
      "cell_type": "markdown",
      "metadata": {
        "id": "e3oinWjICxUb"
      },
      "source": [
        "**Prepare Data**"
      ]
    },
    {
      "cell_type": "code",
      "metadata": {
        "id": "DLxuJBlXICqs",
        "colab": {
          "base_uri": "https://localhost:8080/",
          "height": 328
        },
        "outputId": "d780dec4-90eb-4235-9cec-0f24c2a8ba61"
      },
      "source": [
        "print('-'*30);print('Prepare Data');print('-'*30)\n",
        "x = np.array(data['id']).reshape(-1,1)\n",
        "y =  np.array(data['cases']).reshape(-1,1)\n",
        "plt.plot(y,'-m*')\n",
        "plt.show()\n",
        "polyFeat = PolynomialFeatures(degree=2)\n",
        "x = polyFeat.fit_transform(x)\n"
      ],
      "execution_count": 11,
      "outputs": [
        {
          "output_type": "stream",
          "name": "stdout",
          "text": [
            "------------------------------\n",
            "Prepare Data\n",
            "------------------------------\n"
          ]
        },
        {
          "output_type": "display_data",
          "data": {
            "image/png": "[encoded data removed]",
            "text/plain": [
              "<Figure size 432x288 with 1 Axes>"
            ]
          },
          "metadata": {
            "needs_background": "light"
          }
        }
      ]
    },
    {
      "cell_type": "markdown",
      "metadata": {
        "id": "ZXwyKgPtB8jP"
      },
      "source": [
        "**Training Data**"
      ]
    },
    {
      "cell_type": "code",
      "metadata": {
        "id": "O7ec-dODLdK2",
        "colab": {
          "base_uri": "https://localhost:8080/",
          "height": 346
        },
        "outputId": "bf0b7d15-8ce0-492c-e2e0-863117a0f0c7"
      },
      "source": [
        "print('-'*30);print('TRAINING DATA');print('-'*30)\n",
        "model = linear_model.LinearRegression()\n",
        "model.fit(x,y)\n",
        "accuracy = model.score(x,y)\n",
        "print(f'Accuracy:{round(accuracy*100,3)}%')\n",
        "y0 = model.predict(x)\n",
        "plt.plot(y0,'--b')\n",
        "plt.show()"
      ],
      "execution_count": 12,
      "outputs": [
        {
          "output_type": "stream",
          "name": "stdout",
          "text": [
            "------------------------------\n",
            "TRAINING DATA\n",
            "------------------------------\n",
            "Accuracy:98.514%\n"
          ]
        },
        {
          "output_type": "display_data",
          "data": {
            "image/png": "[encoded data removed]",
            "text/plain": [
              "<Figure size 432x288 with 1 Axes>"
            ]
          },
          "metadata": {
            "needs_background": "light"
          }
        }
      ]
    },
    {
      "cell_type": "markdown",
      "metadata": {
        "id": "pZjY7hDUCPPV"
      },
      "source": [
        "**Prediction**"
      ]
    },
    {
      "cell_type": "code",
      "metadata": {
        "id": "e8tgIFrALlF7",
        "colab": {
          "base_uri": "https://localhost:8080/"
        },
        "outputId": "178152c3-b78c-4fdf-c930-2ffe8189cf3d"
      },
      "source": [
        "days = int(input('Enter the no of days: '))\n",
        "print('-'*30);print('PREDICTION');print('-'*30)\n",
        "print(f'Prediction - Cases after {days} days:',end='')\n",
        "print(round(int(model.predict(polyFeat.fit_transform([[126+days]])))/1000000,2),'Million')"
      ],
      "execution_count": 7,
      "outputs": [
        {
          "output_type": "stream",
          "name": "stdout",
          "text": [
            "Enter the no of days: 2\n",
            "------------------------------\n",
            "PREDICTION\n",
            "------------------------------\n",
            "Prediction - Cases after 2 days:30.88 Million\n"
          ]
        }
      ]
    },
    {
      "cell_type": "code",
      "metadata": {
        "id": "gISDLaMULsME",
        "colab": {
          "base_uri": "https://localhost:8080/",
          "height": 276
        },
        "outputId": "e6e0d0c0-ec84-4dd0-c20b-a0c2bf07a87f"
      },
      "source": [
        "x1 = np.array(list(range(1,126+days))).reshape(-1,1)\n",
        "y1 = model.predict(polyFeat.fit_transform(x1))\n",
        "plt.plot(y1,'--r')\n",
        "plt.plot(y0,'--b')\n",
        "plt.show()"
      ],
      "execution_count": 8,
      "outputs": [
        {
          "output_type": "display_data",
          "data": {
            "image/png": "[encoded data removed]",
            "text/plain": [
              "<Figure size 432x288 with 1 Axes>"
            ]
          },
          "metadata": {
            "needs_background": "light"
          }
        }
      ]
    }
  ]
}